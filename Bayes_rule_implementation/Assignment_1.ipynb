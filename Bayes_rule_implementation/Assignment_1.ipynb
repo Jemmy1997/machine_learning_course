{
 "cells": [
  {
   "cell_type": "markdown",
   "metadata": {},
   "source": [
    "# Importing All needed Libraries "
   ]
  },
  {
   "cell_type": "code",
   "execution_count": 1,
   "metadata": {},
   "outputs": [],
   "source": [
    "from math import sqrt, pi, exp\n",
    "from sklearn.model_selection import train_test_split\n",
    "from sklearn.datasets import load_iris\n",
    "import matplotlib as mpl\n",
    "import matplotlib.pyplot as plt\n",
    "import support"
   ]
  },
  {
   "cell_type": "markdown",
   "metadata": {},
   "source": [
    "# Loading Iris flowers dataset with data preprocessing"
   ]
  },
  {
   "cell_type": "code",
   "execution_count": 2,
   "metadata": {},
   "outputs": [],
   "source": [
    "iris = load_iris()\n",
    "iris_data = iris['data'].tolist()\n",
    "iris_target = iris['target'].tolist()\n",
    "iris_full = iris_data\n",
    "for i in range (len(iris_data)):\n",
    "    iris_full[i].append(iris_target[i])     \n",
    "train_set, test_set = train_test_split(iris_full, test_size=0.2, random_state=42)"
   ]
  },
  {
   "cell_type": "markdown",
   "metadata": {},
   "source": [
    "# Extracting data from the dictionary \n",
    "### knowing the structure of the data from: https://archive.ics.uci.edu/ml/datasets/iris"
   ]
  },
  {
   "cell_type": "code",
   "execution_count": 3,
   "metadata": {},
   "outputs": [],
   "source": [
    "sepal_length = [x[0] for x in train_set]\n",
    "sepal_width = [x[1] for x in train_set]\n",
    "petal_length = [x[2] for x in train_set]\n",
    "petal_width = [x[3] for x in train_set]\n",
    "classes =[x[4] for x in train_set]"
   ]
  },
  {
   "cell_type": "markdown",
   "metadata": {},
   "source": [
    "# Summerizing data "
   ]
  },
  {
   "cell_type": "code",
   "execution_count": 4,
   "metadata": {},
   "outputs": [
    {
     "data": {
      "text/plain": [
       "[(5.809166666666665, 0.82380505090996, 120),\n",
       " (3.0616666666666674, 0.44912301721670606, 120),\n",
       " (3.726666666666667, 1.752344567884364, 120),\n",
       " (1.1833333333333333, 0.7522887579580995, 120)]"
      ]
     },
     "execution_count": 4,
     "metadata": {},
     "output_type": "execute_result"
    }
   ],
   "source": [
    "summary = support.summarize_dataset(train_set)\n",
    "summary"
   ]
  },
  {
   "cell_type": "markdown",
   "metadata": {},
   "source": [
    "# Classification"
   ]
  },
  {
   "cell_type": "code",
   "execution_count": 5,
   "metadata": {},
   "outputs": [
    {
     "data": {
      "text/plain": [
       "{0: [[4.6, 3.6, 1.0, 0.2, 0],\n",
       "  [5.7, 4.4, 1.5, 0.4, 0],\n",
       "  [4.8, 3.4, 1.6, 0.2, 0],\n",
       "  [4.4, 3.2, 1.3, 0.2, 0],\n",
       "  [5.2, 3.5, 1.5, 0.2, 0],\n",
       "  [5.0, 3.6, 1.4, 0.2, 0],\n",
       "  [5.2, 4.1, 1.5, 0.1, 0],\n",
       "  [5.4, 3.9, 1.3, 0.4, 0],\n",
       "  [5.4, 3.7, 1.5, 0.2, 0],\n",
       "  [5.1, 3.5, 1.4, 0.2, 0],\n",
       "  [5.2, 3.4, 1.4, 0.2, 0],\n",
       "  [5.0, 3.5, 1.3, 0.3, 0],\n",
       "  [5.1, 3.8, 1.9, 0.4, 0],\n",
       "  [4.8, 3.4, 1.9, 0.2, 0],\n",
       "  [5.0, 3.0, 1.6, 0.2, 0],\n",
       "  [5.1, 3.3, 1.7, 0.5, 0],\n",
       "  [5.1, 3.4, 1.5, 0.2, 0],\n",
       "  [4.6, 3.2, 1.4, 0.2, 0],\n",
       "  [5.5, 4.2, 1.4, 0.2, 0],\n",
       "  [5.4, 3.9, 1.7, 0.4, 0],\n",
       "  [5.0, 3.3, 1.4, 0.2, 0],\n",
       "  [5.0, 3.2, 1.2, 0.2, 0],\n",
       "  [4.9, 3.1, 1.5, 0.2, 0],\n",
       "  [5.0, 3.4, 1.5, 0.2, 0],\n",
       "  [5.0, 3.5, 1.6, 0.6, 0],\n",
       "  [4.4, 2.9, 1.4, 0.2, 0],\n",
       "  [4.3, 3.0, 1.1, 0.1, 0],\n",
       "  [4.6, 3.1, 1.5, 0.2, 0],\n",
       "  [5.1, 3.5, 1.4, 0.3, 0],\n",
       "  [4.4, 3.0, 1.3, 0.2, 0],\n",
       "  [4.6, 3.4, 1.4, 0.3, 0],\n",
       "  [4.7, 3.2, 1.3, 0.2, 0],\n",
       "  [5.1, 3.8, 1.6, 0.2, 0],\n",
       "  [4.5, 2.3, 1.3, 0.3, 0],\n",
       "  [5.3, 3.7, 1.5, 0.2, 0],\n",
       "  [5.1, 3.7, 1.5, 0.4, 0],\n",
       "  [4.9, 3.6, 1.4, 0.1, 0],\n",
       "  [4.9, 3.0, 1.4, 0.2, 0],\n",
       "  [5.4, 3.4, 1.7, 0.2, 0],\n",
       "  [5.8, 4.0, 1.2, 0.2, 0]],\n",
       " 1: [[6.7, 3.1, 4.4, 1.4, 1],\n",
       "  [6.4, 3.2, 4.5, 1.5, 1],\n",
       "  [6.0, 3.4, 4.5, 1.6, 1],\n",
       "  [6.7, 3.1, 4.7, 1.5, 1],\n",
       "  [5.5, 2.4, 3.7, 1.0, 1],\n",
       "  [6.6, 3.0, 4.4, 1.4, 1],\n",
       "  [5.7, 2.9, 4.2, 1.3, 1],\n",
       "  [5.6, 3.0, 4.5, 1.5, 1],\n",
       "  [5.8, 2.7, 4.1, 1.0, 1],\n",
       "  [5.0, 2.0, 3.5, 1.0, 1],\n",
       "  [5.6, 2.7, 4.2, 1.3, 1],\n",
       "  [5.7, 3.0, 4.2, 1.2, 1],\n",
       "  [6.2, 2.9, 4.3, 1.3, 1],\n",
       "  [6.0, 2.2, 4.0, 1.0, 1],\n",
       "  [5.4, 3.0, 4.5, 1.5, 1],\n",
       "  [5.5, 2.3, 4.0, 1.3, 1],\n",
       "  [5.0, 2.3, 3.3, 1.0, 1],\n",
       "  [5.5, 2.4, 3.8, 1.1, 1],\n",
       "  [6.7, 3.0, 5.0, 1.7, 1],\n",
       "  [5.9, 3.2, 4.8, 1.8, 1],\n",
       "  [5.1, 2.5, 3.0, 1.1, 1],\n",
       "  [6.0, 2.7, 5.1, 1.6, 1],\n",
       "  [5.5, 2.5, 4.0, 1.3, 1],\n",
       "  [6.3, 2.5, 4.9, 1.5, 1],\n",
       "  [6.1, 2.9, 4.7, 1.4, 1],\n",
       "  [6.5, 2.8, 4.6, 1.5, 1],\n",
       "  [7.0, 3.2, 4.7, 1.4, 1],\n",
       "  [5.9, 3.0, 4.2, 1.5, 1],\n",
       "  [5.7, 2.6, 3.5, 1.0, 1],\n",
       "  [5.2, 2.7, 3.9, 1.4, 1],\n",
       "  [6.1, 3.0, 4.6, 1.4, 1],\n",
       "  [6.6, 2.9, 4.6, 1.3, 1],\n",
       "  [5.5, 2.6, 4.4, 1.2, 1],\n",
       "  [5.6, 3.0, 4.1, 1.3, 1],\n",
       "  [4.9, 2.4, 3.3, 1.0, 1],\n",
       "  [6.9, 3.1, 4.9, 1.5, 1],\n",
       "  [5.7, 2.8, 4.1, 1.3, 1],\n",
       "  [6.3, 2.3, 4.4, 1.3, 1],\n",
       "  [6.4, 2.9, 4.3, 1.3, 1],\n",
       "  [6.1, 2.8, 4.0, 1.3, 1],\n",
       "  [5.8, 2.6, 4.0, 1.2, 1]],\n",
       " 2: [[6.3, 2.5, 5.0, 1.9, 2],\n",
       "  [5.8, 2.7, 5.1, 1.9, 2],\n",
       "  [6.3, 2.8, 5.1, 1.5, 2],\n",
       "  [6.4, 3.1, 5.5, 1.8, 2],\n",
       "  [7.2, 3.6, 6.1, 2.5, 2],\n",
       "  [7.6, 3.0, 6.6, 2.1, 2],\n",
       "  [7.7, 2.8, 6.7, 2.0, 2],\n",
       "  [6.3, 2.7, 4.9, 1.8, 2],\n",
       "  [7.7, 3.8, 6.7, 2.2, 2],\n",
       "  [5.7, 2.5, 5.0, 2.0, 2],\n",
       "  [6.0, 3.0, 4.8, 1.8, 2],\n",
       "  [5.8, 2.7, 5.1, 1.9, 2],\n",
       "  [6.2, 3.4, 5.4, 2.3, 2],\n",
       "  [6.4, 2.7, 5.3, 1.9, 2],\n",
       "  [5.8, 2.8, 5.1, 2.4, 2],\n",
       "  [6.9, 3.2, 5.7, 2.3, 2],\n",
       "  [6.1, 2.6, 5.6, 1.4, 2],\n",
       "  [7.7, 3.0, 6.1, 2.3, 2],\n",
       "  [6.0, 2.2, 5.0, 1.5, 2],\n",
       "  [7.2, 3.2, 6.0, 1.8, 2],\n",
       "  [6.3, 3.4, 5.6, 2.4, 2],\n",
       "  [6.8, 3.0, 5.5, 2.1, 2],\n",
       "  [6.3, 3.3, 6.0, 2.5, 2],\n",
       "  [6.2, 2.8, 4.8, 1.8, 2],\n",
       "  [6.4, 3.2, 5.3, 2.3, 2],\n",
       "  [6.9, 3.1, 5.4, 2.1, 2],\n",
       "  [6.5, 3.0, 5.2, 2.0, 2],\n",
       "  [7.3, 2.9, 6.3, 1.8, 2],\n",
       "  [6.7, 3.3, 5.7, 2.1, 2],\n",
       "  [6.7, 3.3, 5.7, 2.5, 2],\n",
       "  [7.2, 3.0, 5.8, 1.6, 2],\n",
       "  [6.7, 3.1, 5.6, 2.4, 2],\n",
       "  [7.4, 2.8, 6.1, 1.9, 2],\n",
       "  [6.3, 2.9, 5.6, 1.8, 2],\n",
       "  [6.5, 3.0, 5.5, 1.8, 2],\n",
       "  [5.6, 2.8, 4.9, 2.0, 2],\n",
       "  [5.9, 3.0, 5.1, 1.8, 2],\n",
       "  [4.9, 2.5, 4.5, 1.7, 2],\n",
       "  [7.1, 3.0, 5.9, 2.1, 2]]}"
      ]
     },
     "execution_count": 5,
     "metadata": {},
     "output_type": "execute_result"
    }
   ],
   "source": [
    "separated = support.separate_by_class(train_set)\n",
    "separated"
   ]
  },
  {
   "cell_type": "markdown",
   "metadata": {},
   "source": [
    "# Summerize By Class"
   ]
  },
  {
   "cell_type": "code",
   "execution_count": 6,
   "metadata": {},
   "outputs": [
    {
     "data": {
      "text/plain": [
       "{0: [(4.99, 0.35647850296605976, 40),\n",
       "  (3.4524999999999997, 0.3954792613448222, 40),\n",
       "  (1.4499999999999997, 0.18397324220155997, 40),\n",
       "  (0.24499999999999997, 0.10609623111312794, 40)],\n",
       " 1: [(5.919512195121952, 0.5423188693910262, 41),\n",
       "  (2.770731707317073, 0.3203466110629426, 41),\n",
       "  (4.241463414634147, 0.48113179574628906, 41),\n",
       "  (1.3219512195121947, 0.20556287982263627, 41)],\n",
       " 2: [(6.533333333333333, 0.6538683809828418, 39),\n",
       "  (2.966666666666667, 0.31898963300538824, 39),\n",
       "  (5.52051282051282, 0.541527803232128, 39),\n",
       "  (1.9999999999999996, 0.2901905000440046, 39)]}"
      ]
     },
     "execution_count": 6,
     "metadata": {},
     "output_type": "execute_result"
    }
   ],
   "source": [
    "\n",
    "summary_class = support.summarize_by_class(train_set)\n",
    "summary_class"
   ]
  },
  {
   "cell_type": "markdown",
   "metadata": {},
   "source": [
    "# Calculating Probability "
   ]
  },
  {
   "cell_type": "code",
   "execution_count": 22,
   "metadata": {},
   "outputs": [
    {
     "name": "stdout",
     "output_type": "stream",
     "text": [
      "{0: 0.0996588938905466, 1: 9.979102468937199e-15, 2: 2.017392361123097e-21}\n",
      "0\n",
      "0\n"
     ]
    }
   ],
   "source": [
    "\n",
    "probabilities = support.calculate_class_probabilities(summary_class, test_set[1])\n",
    "print(probabilities)\n",
    "print(test_set[1][-1])\n",
    "print(list(probabilities.keys())[list(probabilities.values()).index(max(probabilities.values()))])"
   ]
  },
  {
   "cell_type": "markdown",
   "metadata": {},
   "source": [
    "# Calculating Accuracy "
   ]
  },
  {
   "cell_type": "code",
   "execution_count": 23,
   "metadata": {},
   "outputs": [
    {
     "name": "stdout",
     "output_type": "stream",
     "text": [
      "1.0\n"
     ]
    }
   ],
   "source": [
    "counter =0\n",
    "for i in range (len(test_set)):\n",
    "    probabilities = support.calculate_class_probabilities(summary_class, test_set[i])\n",
    "    max_probability = max(probabilities.values() )\n",
    "    if (test_set[i][-1] ==   list(probabilities.keys())[list(probabilities.values()).index(max_probability)] ):\n",
    "        counter += 1 \n",
    "print (counter/len(test_set))        "
   ]
  },
  {
   "cell_type": "markdown",
   "metadata": {},
   "source": [
    "# We got 100% Accuracy !!!!!"
   ]
  }
 ],
 "metadata": {
  "kernelspec": {
   "display_name": "Python 3",
   "language": "python",
   "name": "python3"
  },
  "language_info": {
   "codemirror_mode": {
    "name": "ipython",
    "version": 3
   },
   "file_extension": ".py",
   "mimetype": "text/x-python",
   "name": "python",
   "nbconvert_exporter": "python",
   "pygments_lexer": "ipython3",
   "version": "3.7.5"
  }
 },
 "nbformat": 4,
 "nbformat_minor": 4
}
