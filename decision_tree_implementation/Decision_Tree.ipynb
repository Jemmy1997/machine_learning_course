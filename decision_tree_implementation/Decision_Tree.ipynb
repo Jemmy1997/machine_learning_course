{
 "cells": [
  {
   "cell_type": "code",
   "execution_count": 38,
   "metadata": {},
   "outputs": [],
   "source": [
    "from sklearn.tree import DecisionTreeClassifier\n",
    "from sklearn.tree import export_graphviz\n",
    "import pydot "
   ]
  },
  {
   "cell_type": "markdown",
   "metadata": {},
   "source": [
    "# Prepare data"
   ]
  },
  {
   "cell_type": "code",
   "execution_count": 39,
   "metadata": {},
   "outputs": [],
   "source": [
    "data = [['Early registration','Finished homework II','Senior','Likes Coffee','Liked The Last homework','GPA'],\n",
    "        [1, 1, 0, 0, 1, 1],\n",
    "        [1, 1, 1, 0, 1, 1],\n",
    "        [0, 0, 1, 0, 0, 0],\n",
    "        [0, 1, 1, 0, 1, 0],\n",
    "        [0, 1, 1, 0, 0, 1],\n",
    "        [0, 0, 1, 1, 1, 1],\n",
    "        [1, 0, 0, 0, 1, 0],\n",
    "        [0, 1, 0, 1, 1, 1],\n",
    "        [0, 0, 1, 0, 1, 1],\n",
    "        [1, 0, 0, 0, 0, 0],\n",
    "        [1, 1, 1, 0, 0, 1],\n",
    "        [0, 1, 1, 1, 1, 0],\n",
    "        [0, 0, 0, 0, 1, 0],\n",
    "        [1, 0, 0, 1, 0, 1]]\n",
    "features = [x[:-1] for x in data[1:] ]\n",
    "classes = [x[-1] for x in data[1:]]\n",
    "featuresName = data[0][:-1]\n",
    "calssesName = ['A','Not_A']\n"
   ]
  },
  {
   "cell_type": "markdown",
   "metadata": {},
   "source": [
    "# Make Decision tree with depth = 1"
   ]
  },
  {
   "cell_type": "code",
   "execution_count": 40,
   "metadata": {},
   "outputs": [],
   "source": [
    "decisionTree_D1 = DecisionTreeClassifier(max_depth=1)\n",
    "pred =decisionTree_D1.fit(features,classes)"
   ]
  },
  {
   "cell_type": "markdown",
   "metadata": {},
   "source": [
    "## Visualize the result part 1"
   ]
  },
  {
   "cell_type": "code",
   "execution_count": 42,
   "metadata": {},
   "outputs": [],
   "source": [
    "export_graphviz(\n",
    "    decisionTree_D1,\n",
    "    out_file=\"imgs/d1.dot\",\n",
    "    feature_names=featuresName,\n",
    "    class_names = calssesName,\n",
    "    rounded=True,\n",
    "    filled=True    \n",
    ")\n"
   ]
  },
  {
   "cell_type": "code",
   "execution_count": 43,
   "metadata": {},
   "outputs": [],
   "source": [
    "(graph,) = pydot.graph_from_dot_file(\"imgs/d1.dot\")\n",
    "graph.write_png(\"imgs/d1.png\")"
   ]
  },
  {
   "cell_type": "markdown",
   "metadata": {},
   "source": [
    "![title](imgs/d1.png)"
   ]
  },
  {
   "cell_type": "markdown",
   "metadata": {},
   "source": [
    "# Make decision tree with depth = 2"
   ]
  },
  {
   "cell_type": "code",
   "execution_count": 44,
   "metadata": {},
   "outputs": [
    {
     "data": {
      "text/plain": [
       "DecisionTreeClassifier(ccp_alpha=0.0, class_weight=None, criterion='gini',\n",
       "                       max_depth=2, max_features=None, max_leaf_nodes=None,\n",
       "                       min_impurity_decrease=0.0, min_impurity_split=None,\n",
       "                       min_samples_leaf=1, min_samples_split=2,\n",
       "                       min_weight_fraction_leaf=0.0, presort='deprecated',\n",
       "                       random_state=None, splitter='best')"
      ]
     },
     "execution_count": 44,
     "metadata": {},
     "output_type": "execute_result"
    }
   ],
   "source": [
    "decisionTree_D2 = DecisionTreeClassifier(max_depth=2)\n",
    "decisionTree_D2.fit(features,classes)"
   ]
  },
  {
   "cell_type": "markdown",
   "metadata": {},
   "source": [
    "## Visualize the result part 2"
   ]
  },
  {
   "cell_type": "code",
   "execution_count": 49,
   "metadata": {},
   "outputs": [],
   "source": [
    "export_graphviz(\n",
    "    decisionTree_D2,\n",
    "    out_file=\"imgs/d2.dot\",\n",
    "    feature_names=featuresName,\n",
    "    class_names=calssesName,\n",
    "    rounded=True,\n",
    "    filled=True    \n",
    ")\n"
   ]
  },
  {
   "cell_type": "code",
   "execution_count": 50,
   "metadata": {},
   "outputs": [],
   "source": [
    "(graph,) = pydot.graph_from_dot_file(\"imgs/d2.dot\")\n",
    "graph.write_png(\"imgs/d2.png\")"
   ]
  },
  {
   "cell_type": "markdown",
   "metadata": {},
   "source": [
    "![title](imgs/d2.png)"
   ]
  },
  {
   "cell_type": "code",
   "execution_count": null,
   "metadata": {},
   "outputs": [],
   "source": []
  }
 ],
 "metadata": {
  "kernelspec": {
   "display_name": "Python 3.7.5 64-bit",
   "language": "python",
   "name": "python37564bit47f7bd34855d481db78ec75a9e3fd850"
  },
  "language_info": {
   "codemirror_mode": {
    "name": "ipython",
    "version": 3
   },
   "file_extension": ".py",
   "mimetype": "text/x-python",
   "name": "python",
   "nbconvert_exporter": "python",
   "pygments_lexer": "ipython3",
   "version": "3.7.5"
  }
 },
 "nbformat": 4,
 "nbformat_minor": 4
}
